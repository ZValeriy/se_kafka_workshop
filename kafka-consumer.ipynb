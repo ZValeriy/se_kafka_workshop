{
 "cells": [
  {
   "cell_type": "code",
   "execution_count": 1,
   "metadata": {},
   "outputs": [
    {
     "name": "stdout",
     "output_type": "stream",
     "text": [
      "Requirement already satisfied: kafka-python in ./.venv/lib/python3.9/site-packages (2.0.2)\n"
     ]
    }
   ],
   "source": [
    "!pip3 install kafka-python\n",
    "\n",
    "import json\n",
    "import random\n",
    "from datetime import datetime\n",
    "from time import sleep\n",
    "from kafka import KafkaConsumer"
   ]
  },
  {
   "cell_type": "markdown",
   "metadata": {},
   "source": [
    "А тут мы опишем наши консьюмеры, которые будут читать сообщения\n",
    "Ниже базовая настройка консьюмера и несколько дополнительных. \n",
    "* one_record – для одиночного чтения сообщений\n",
    "* ten_record – для вычитки пачками по 10 сообщений\n",
    "* consumer_auto_offset_config – конфигурация для автоматического коммита (раз в 100 мс)\n",
    "* consumer_manual_offset_config – конфигурация для ручного коммита сообщений"
   ]
  },
  {
   "cell_type": "code",
   "execution_count": null,
   "metadata": {},
   "outputs": [],
   "source": [
    "\n",
    "consumer_base_config = {\n",
    "    # Брокеры Kafka\n",
    "    'bootstrap_servers': ['localhost:9093', 'localhost:9095', 'localhost:9097'],  # Список хостов и портов брокеров Kafka\n",
    "\n",
    "    # (Де)сериализация ключей и значений\n",
    "    'key_deserializer': lambda k: k.decode('utf-8') if k else None,  # Десериализация ключа из байтов\n",
    "    'value_deserializer': lambda v: v.decode('utf-8') if v else None,  # Десериализация значения из байтов\n",
    "    # Начало чтения сообщений\n",
    "    'auto_offset_reset': 'earliest',  # 'earliest' - читать с самого начала, 'latest' - только новые\n",
    "    # Таймаут для poll()\n",
    "    'consumer_timeout_ms': 1000,  # Таймаут для ожидания сообщений (в миллисекундах)\n",
    "    'max_poll_interval_ms': 300000,  # Максимальное время между вызовами poll (по умолчанию 5 минут)\n",
    "    'fetch_min_bytes': 1,  # Минимальный объем данных за один запрос\n",
    "    'fetch_max_wait_ms': 500,  # Максимальное время ожидания перед получением данных\n",
    "}\n",
    "consumer_auto_offset_config = {\n",
    "    # Автокоммит смещений\n",
    "    'enable_auto_commit': True,  # Включить автоматическое подтверждение обработки сообщений\n",
    "    'auto_commit_interval_ms': 100,  # Интервал автокоммита (в миллисекундах)\n",
    "    'group_id': 'auto-commit'\n",
    "}\n",
    "consumer_manual_offset_config = {\n",
    "    # Автокоммит смещений\n",
    "    'enable_auto_commit': False,  # Включить автоматическое подтверждение обработки сообщений\n",
    "    'group_id': 'manual_commit'\n",
    "}\n",
    "\n",
    "consumer_one_record_config = {\n",
    "    'max_poll_records': 1,  # Максимальное количество сообщений за раз\n",
    "    # Группа консьюмеров\n",
    "    'group_id': 'one_record'  # ID группы консьюмеров\n",
    "}\n",
    "\n",
    "consumer_ten_record_config = {\n",
    "    'max_poll_records': 10,  # Максимальное количество сообщений за раз\n",
    "    # Группа консьюмеров\n",
    "    'group_id': 'ten_record'  # ID группы консьюмеров\n",
    "}"
   ]
  },
  {
   "cell_type": "code",
   "execution_count": 19,
   "metadata": {},
   "outputs": [],
   "source": [
    "from datetime import datetime\n",
    "\n",
    "def kafka_base_consumer_example(config, topic):\n",
    "    consumer = KafkaConsumer(topic, **config)\n",
    "    print(f\"Подключен к Kafka. Читаю сообщения из топика '{topic}'...\")\n",
    "\n",
    "    try:\n",
    "        while True:\n",
    "            # Читаем сообщения пачками\n",
    "            messages = consumer.poll(timeout_ms=1000)  # Тайм-аут в миллисекундах\n",
    "            if not messages:\n",
    "                continue\n",
    "            \n",
    "            now = datetime.now()\n",
    "            print(f\"Время: {now}\")\n",
    "            for partition, msgs in messages.items():\n",
    "                print(f\"Получено {len(msgs)} сообщений из раздела {partition.partition} топика {partition.topic}\")\n",
    "                for msg in msgs:\n",
    "                    print(f\"Сообщение: {msg.value}, Ключ: {msg.key}, Смещение: {msg.offset}\")\n",
    "    except KeyboardInterrupt:\n",
    "        print(\"Остановка консьюмера\")\n",
    "    finally:\n",
    "        # Закрываем консьюмера\n",
    "        consumer.close()"
   ]
  },
  {
   "cell_type": "markdown",
   "metadata": {},
   "source": [
    "Попробуем запустить и посмотреть, что мы прочитали"
   ]
  },
  {
   "cell_type": "code",
   "execution_count": null,
   "metadata": {},
   "outputs": [
    {
     "name": "stdout",
     "output_type": "stream",
     "text": [
      "Подключен к Kafka. Читаю сообщения из топика 'new-topic'...\n",
      "Время: 2024-11-22 19:37:45.153772\n",
      "Получено 2 сообщений из раздела 2 топика new-topic\n",
      "Сообщение: {\"text\": \"MY_FIRST_MESSAGE\", \"number_value\": 14.223, \"key\": \"0\"}, Ключ: \"0\", Смещение: 38\n",
      "Сообщение: {\"text\": \"MY_FIRST_MESSAGE\", \"number_value\": 14.223, \"key\": \"3\"}, Ключ: \"3\", Смещение: 39\n",
      "Время: 2024-11-22 19:37:45.653714\n",
      "Получено 5 сообщений из раздела 1 топика new-topic\n",
      "Сообщение: {\"text\": \"MY_FIRST_MESSAGE\", \"number_value\": 14.223, \"key\": \"1\"}, Ключ: \"1\", Смещение: 71\n",
      "Сообщение: {\"text\": \"MY_FIRST_MESSAGE\", \"number_value\": 14.223, \"key\": \"4\"}, Ключ: \"4\", Смещение: 72\n",
      "Сообщение: {\"text\": \"MY_FIRST_MESSAGE\", \"number_value\": 14.223, \"key\": \"6\"}, Ключ: \"6\", Смещение: 73\n",
      "Сообщение: {\"text\": \"MY_FIRST_MESSAGE\", \"number_value\": 14.223, \"key\": \"9\"}, Ключ: \"9\", Смещение: 74\n",
      "Сообщение: {\"text\": \"MY_FIRST_MESSAGE\", \"number_value\": 14.223, \"key\": \"10\"}, Ключ: \"10\", Смещение: 75\n",
      "Время: 2024-11-22 19:37:46.162313\n",
      "Получено 5 сообщений из раздела 0 топика new-topic\n",
      "Сообщение: {\"text\": \"MY_FIRST_MESSAGE\", \"number_value\": 14.223, \"key\": \"2\"}, Ключ: \"2\", Смещение: 68\n",
      "Сообщение: {\"text\": \"MY_FIRST_MESSAGE\", \"number_value\": 14.223, \"key\": \"5\"}, Ключ: \"5\", Смещение: 69\n",
      "Сообщение: {\"text\": \"MY_FIRST_MESSAGE\", \"number_value\": 14.223, \"key\": \"7\"}, Ключ: \"7\", Смещение: 70\n",
      "Сообщение: {\"text\": \"MY_FIRST_MESSAGE\", \"number_value\": 14.223, \"key\": \"8\"}, Ключ: \"8\", Смещение: 71\n",
      "Сообщение: {\"text\": \"MY_FIRST_MESSAGE\", \"number_value\": 14.223, \"key\": \"11\"}, Ключ: \"11\", Смещение: 72\n",
      "Время: 2024-11-22 19:37:51.200914\n",
      "Получено 5 сообщений из раздела 1 топика new-topic\n",
      "Сообщение: {\"text\": \"MY_FIRST_MESSAGE\", \"number_value\": 14.223, \"key\": \"12\"}, Ключ: \"12\", Смещение: 76\n",
      "Сообщение: {\"text\": \"MY_FIRST_MESSAGE\", \"number_value\": 14.223, \"key\": \"17\"}, Ключ: \"17\", Смещение: 77\n",
      "Сообщение: {\"text\": \"MY_FIRST_MESSAGE\", \"number_value\": 14.223, \"key\": \"19\"}, Ключ: \"19\", Смещение: 78\n",
      "Сообщение: {\"text\": \"MY_FIRST_MESSAGE\", \"number_value\": 14.223, \"key\": \"20\"}, Ключ: \"20\", Смещение: 79\n",
      "Сообщение: {\"text\": \"MY_FIRST_MESSAGE\", \"number_value\": 14.223, \"key\": \"21\"}, Ключ: \"21\", Смещение: 80\n",
      "Время: 2024-11-22 19:37:51.702536\n",
      "Получено 2 сообщений из раздела 2 топика new-topic\n",
      "Сообщение: {\"text\": \"MY_FIRST_MESSAGE\", \"number_value\": 14.223, \"key\": \"13\"}, Ключ: \"13\", Смещение: 40\n",
      "Сообщение: {\"text\": \"MY_FIRST_MESSAGE\", \"number_value\": 14.223, \"key\": \"14\"}, Ключ: \"14\", Смещение: 41\n",
      "Время: 2024-11-22 19:37:52.799519\n",
      "Получено 5 сообщений из раздела 0 топика new-topic\n",
      "Сообщение: {\"text\": \"MY_FIRST_MESSAGE\", \"number_value\": 14.223, \"key\": \"15\"}, Ключ: \"15\", Смещение: 73\n",
      "Сообщение: {\"text\": \"MY_FIRST_MESSAGE\", \"number_value\": 14.223, \"key\": \"16\"}, Ключ: \"16\", Смещение: 74\n",
      "Сообщение: {\"text\": \"MY_FIRST_MESSAGE\", \"number_value\": 14.223, \"key\": \"18\"}, Ключ: \"18\", Смещение: 75\n",
      "Сообщение: {\"text\": \"MY_FIRST_MESSAGE\", \"number_value\": 14.223, \"key\": \"23\"}, Ключ: \"23\", Смещение: 76\n",
      "Сообщение: {\"text\": \"MY_FIRST_MESSAGE\", \"number_value\": 14.223, \"key\": \"24\"}, Ключ: \"24\", Смещение: 77\n",
      "Время: 2024-11-22 19:37:56.235764\n",
      "Получено 1 сообщений из раздела 1 топика new-topic\n",
      "Сообщение: {\"text\": \"MY_FIRST_MESSAGE\", \"number_value\": 14.223, \"key\": \"22\"}, Ключ: \"22\", Смещение: 81\n",
      "Время: 2024-11-22 19:37:57.740578\n",
      "Получено 3 сообщений из раздела 0 топика new-topic\n",
      "Сообщение: {\"text\": \"MY_FIRST_MESSAGE\", \"number_value\": 14.223, \"key\": \"25\"}, Ключ: \"25\", Смещение: 78\n",
      "Сообщение: {\"text\": \"MY_FIRST_MESSAGE\", \"number_value\": 14.223, \"key\": \"26\"}, Ключ: \"26\", Смещение: 79\n",
      "Сообщение: {\"text\": \"MY_FIRST_MESSAGE\", \"number_value\": 14.223, \"key\": \"28\"}, Ключ: \"28\", Смещение: 80\n",
      "Время: 2024-11-22 19:37:58.752758\n",
      "Получено 2 сообщений из раздела 2 топика new-topic\n",
      "Сообщение: {\"text\": \"MY_FIRST_MESSAGE\", \"number_value\": 14.223, \"key\": \"27\"}, Ключ: \"27\", Смещение: 42\n",
      "Сообщение: {\"text\": \"MY_FIRST_MESSAGE\", \"number_value\": 14.223, \"key\": \"29\"}, Ключ: \"29\", Смещение: 43\n",
      "Остановка консьюмера\n"
     ]
    }
   ],
   "source": [
    "TEST_TOPIC = 'new-topic'\n",
    "auto_commit_config = consumer_base_config | consumer_auto_offset_config\n",
    "kafka_base_consumer_example(auto_commit_config, TEST_TOPIC)"
   ]
  },
  {
   "cell_type": "markdown",
   "metadata": {},
   "source": [
    "А теперь давайте вернемся в kafka-producer и запустим Producer в 33 ячейке. Не забудьте перед этим остановить пред-ий консьюмер. Как вы видите, мы стали читать по несколько сообщений в пачке"
   ]
  },
  {
   "cell_type": "code",
   "execution_count": null,
   "metadata": {},
   "outputs": [],
   "source": [
    "TEST_TOPIC = 'new-topic'\n",
    "\n",
    "kafka_base_consumer_example(auto_commit_config, TEST_TOPIC)"
   ]
  },
  {
   "cell_type": "markdown",
   "metadata": {},
   "source": [
    "А тут опишем консьюмер с ручным коммитом, который делает коммит в начале обработки каждой пачки "
   ]
  },
  {
   "cell_type": "code",
   "execution_count": 23,
   "metadata": {},
   "outputs": [],
   "source": [
    "from datetime import datetime\n",
    "\n",
    "def kafka_manual_start_consumer_example(config, topic):\n",
    "    config[\"group_id\"] = \"manual_commit_before_process\"\n",
    "    consumer = KafkaConsumer(topic, **config)\n",
    "    print(f\"Подключен к Kafka. Читаю сообщения из топика '{topic}'...\")\n",
    "\n",
    "    try:\n",
    "        while True:\n",
    "            # Читаем сообщения пачками\n",
    "            messages = consumer.poll(timeout_ms=1000)  # Тайм-аут в миллисекундах\n",
    "            if not messages:\n",
    "                continue\n",
    "            consumer.commit()\n",
    "            now = datetime.now()\n",
    "            print(f\"Время: {now}\")\n",
    "            for partition, msgs in messages.items():\n",
    "                print(f\"Получено {len(msgs)} сообщений из раздела {partition.partition} топика {partition.topic}\")\n",
    "                for msg in msgs:\n",
    "                    print(f\"Сообщение: {msg.value}, Ключ: {msg.key}, Смещение: {msg.offset}\")\n",
    "            sleep(3)\n",
    "    except KeyboardInterrupt:\n",
    "        print(\"Остановка консьюмера\")\n",
    "    finally:\n",
    "        # Закрываем консьюмер\n",
    "        consumer.close()"
   ]
  },
  {
   "cell_type": "markdown",
   "metadata": {},
   "source": [
    "А здесь консьюмер, который будет делать коммит после окончания обработки пачки сообщений"
   ]
  },
  {
   "cell_type": "code",
   "execution_count": 24,
   "metadata": {},
   "outputs": [],
   "source": [
    "from datetime import datetime\n",
    "\n",
    "def kafka_manual_end_consumer_example(config, topic):\n",
    "    config[\"group_id\"] = \"manual_commit_after_process\"\n",
    "    consumer = KafkaConsumer(topic, **config)\n",
    "    print(f\"Подключен к Kafka. Читаю сообщения из топика '{topic}'...\")\n",
    "    try:\n",
    "        while True:\n",
    "            # Читаем сообщения пачками\n",
    "            messages = consumer.poll(timeout_ms=1000)  # Тайм-аут в миллисекундах\n",
    "            if not messages:\n",
    "                continue\n",
    "            now = datetime.now()\n",
    "            print(f\"Время: {now}\")\n",
    "            for partition, msgs in messages.items():\n",
    "                print(f\"Получено {len(msgs)} сообщений из раздела {partition.partition} топика {partition.topic}\")\n",
    "                for msg in msgs:\n",
    "                    print(f\"Сообщение: {msg.value}, Ключ: {msg.key}, Смещение: {msg.offset}\")\n",
    "            sleep(3)\n",
    "            consumer.commit()\n",
    "    except KeyboardInterrupt:\n",
    "        print(\"Остановка консьюмера\")\n",
    "    finally:\n",
    "        # Закрываем консьюмер\n",
    "        consumer.close()"
   ]
  },
  {
   "cell_type": "markdown",
   "metadata": {},
   "source": [
    "Давайте переключимся на 38-ую ячейку kafka-producer и запустим \"вечный продьюсер, который раз в 0.5 секунд будет отправлять сообщение и увеличивать ключ).  \n",
    "Дальше попробуем подключиться к нашему топику. Запустите следующую ячейку, а потом, спустя какое-то время остановите её, немного подождите и запустите следующую. Проверьте, не было ли повторной обработки сообщения (одинаковый ключ)"
   ]
  },
  {
   "cell_type": "code",
   "execution_count": 35,
   "metadata": {},
   "outputs": [
    {
     "name": "stdout",
     "output_type": "stream",
     "text": [
      "{'bootstrap_servers': ['localhost:9093', 'localhost:9095', 'localhost:9097'], 'key_deserializer': <function <lambda> at 0x108d521f0>, 'value_deserializer': <function <lambda> at 0x108d52dc0>, 'auto_offset_reset': 'earliest', 'consumer_timeout_ms': 1000, 'max_poll_interval_ms': 300000, 'fetch_min_bytes': 1, 'fetch_max_wait_ms': 500, 'enable_auto_commit': False, 'group_id': 'manual_commit'}\n",
      "Подключен к Kafka. Читаю сообщения из топика 'one-partition'...\n",
      "Время: 2024-11-22 19:56:34.416276\n",
      "Получено 52 сообщений из раздела 0 топика one-partition\n",
      "Сообщение: {\"text\": \"MY_FIRST_MESSAGE\", \"number_value\": 14.223, \"key\": \"783\"}, Ключ: \"783\", Смещение: 90\n",
      "Сообщение: {\"text\": \"MY_FIRST_MESSAGE\", \"number_value\": 14.223, \"key\": \"784\"}, Ключ: \"784\", Смещение: 91\n",
      "Сообщение: {\"text\": \"MY_FIRST_MESSAGE\", \"number_value\": 14.223, \"key\": \"785\"}, Ключ: \"785\", Смещение: 92\n",
      "Сообщение: {\"text\": \"MY_FIRST_MESSAGE\", \"number_value\": 14.223, \"key\": \"786\"}, Ключ: \"786\", Смещение: 93\n",
      "Сообщение: {\"text\": \"MY_FIRST_MESSAGE\", \"number_value\": 14.223, \"key\": \"787\"}, Ключ: \"787\", Смещение: 94\n",
      "Сообщение: {\"text\": \"MY_FIRST_MESSAGE\", \"number_value\": 14.223, \"key\": \"788\"}, Ключ: \"788\", Смещение: 95\n",
      "Сообщение: {\"text\": \"MY_FIRST_MESSAGE\", \"number_value\": 14.223, \"key\": \"789\"}, Ключ: \"789\", Смещение: 96\n",
      "Сообщение: {\"text\": \"MY_FIRST_MESSAGE\", \"number_value\": 14.223, \"key\": \"790\"}, Ключ: \"790\", Смещение: 97\n",
      "Сообщение: {\"text\": \"MY_FIRST_MESSAGE\", \"number_value\": 14.223, \"key\": \"791\"}, Ключ: \"791\", Смещение: 98\n",
      "Сообщение: {\"text\": \"MY_FIRST_MESSAGE\", \"number_value\": 14.223, \"key\": \"0\"}, Ключ: \"0\", Смещение: 99\n",
      "Сообщение: {\"text\": \"MY_FIRST_MESSAGE\", \"number_value\": 14.223, \"key\": \"1\"}, Ключ: \"1\", Смещение: 100\n",
      "Сообщение: {\"text\": \"MY_FIRST_MESSAGE\", \"number_value\": 14.223, \"key\": \"2\"}, Ключ: \"2\", Смещение: 101\n",
      "Сообщение: {\"text\": \"MY_FIRST_MESSAGE\", \"number_value\": 14.223, \"key\": \"3\"}, Ключ: \"3\", Смещение: 102\n",
      "Сообщение: {\"text\": \"MY_FIRST_MESSAGE\", \"number_value\": 14.223, \"key\": \"4\"}, Ключ: \"4\", Смещение: 103\n",
      "Сообщение: {\"text\": \"MY_FIRST_MESSAGE\", \"number_value\": 14.223, \"key\": \"5\"}, Ключ: \"5\", Смещение: 104\n",
      "Сообщение: {\"text\": \"MY_FIRST_MESSAGE\", \"number_value\": 14.223, \"key\": \"6\"}, Ключ: \"6\", Смещение: 105\n",
      "Сообщение: {\"text\": \"MY_FIRST_MESSAGE\", \"number_value\": 14.223, \"key\": \"7\"}, Ключ: \"7\", Смещение: 106\n",
      "Сообщение: {\"text\": \"MY_FIRST_MESSAGE\", \"number_value\": 14.223, \"key\": \"8\"}, Ключ: \"8\", Смещение: 107\n",
      "Сообщение: {\"text\": \"MY_FIRST_MESSAGE\", \"number_value\": 14.223, \"key\": \"9\"}, Ключ: \"9\", Смещение: 108\n",
      "Сообщение: {\"text\": \"MY_FIRST_MESSAGE\", \"number_value\": 14.223, \"key\": \"10\"}, Ключ: \"10\", Смещение: 109\n",
      "Сообщение: {\"text\": \"MY_FIRST_MESSAGE\", \"number_value\": 14.223, \"key\": \"11\"}, Ключ: \"11\", Смещение: 110\n",
      "Сообщение: {\"text\": \"MY_FIRST_MESSAGE\", \"number_value\": 14.223, \"key\": \"12\"}, Ключ: \"12\", Смещение: 111\n",
      "Сообщение: {\"text\": \"MY_FIRST_MESSAGE\", \"number_value\": 14.223, \"key\": \"13\"}, Ключ: \"13\", Смещение: 112\n",
      "Сообщение: {\"text\": \"MY_FIRST_MESSAGE\", \"number_value\": 14.223, \"key\": \"14\"}, Ключ: \"14\", Смещение: 113\n",
      "Сообщение: {\"text\": \"MY_FIRST_MESSAGE\", \"number_value\": 14.223, \"key\": \"15\"}, Ключ: \"15\", Смещение: 114\n",
      "Сообщение: {\"text\": \"MY_FIRST_MESSAGE\", \"number_value\": 14.223, \"key\": \"16\"}, Ключ: \"16\", Смещение: 115\n",
      "Сообщение: {\"text\": \"MY_FIRST_MESSAGE\", \"number_value\": 14.223, \"key\": \"17\"}, Ключ: \"17\", Смещение: 116\n",
      "Сообщение: {\"text\": \"MY_FIRST_MESSAGE\", \"number_value\": 14.223, \"key\": \"18\"}, Ключ: \"18\", Смещение: 117\n",
      "Сообщение: {\"text\": \"MY_FIRST_MESSAGE\", \"number_value\": 14.223, \"key\": \"19\"}, Ключ: \"19\", Смещение: 118\n",
      "Сообщение: {\"text\": \"MY_FIRST_MESSAGE\", \"number_value\": 14.223, \"key\": \"20\"}, Ключ: \"20\", Смещение: 119\n",
      "Сообщение: {\"text\": \"MY_FIRST_MESSAGE\", \"number_value\": 14.223, \"key\": \"21\"}, Ключ: \"21\", Смещение: 120\n",
      "Сообщение: {\"text\": \"MY_FIRST_MESSAGE\", \"number_value\": 14.223, \"key\": \"22\"}, Ключ: \"22\", Смещение: 121\n",
      "Сообщение: {\"text\": \"MY_FIRST_MESSAGE\", \"number_value\": 14.223, \"key\": \"23\"}, Ключ: \"23\", Смещение: 122\n",
      "Сообщение: {\"text\": \"MY_FIRST_MESSAGE\", \"number_value\": 14.223, \"key\": \"24\"}, Ключ: \"24\", Смещение: 123\n",
      "Сообщение: {\"text\": \"MY_FIRST_MESSAGE\", \"number_value\": 14.223, \"key\": \"25\"}, Ключ: \"25\", Смещение: 124\n",
      "Сообщение: {\"text\": \"MY_FIRST_MESSAGE\", \"number_value\": 14.223, \"key\": \"26\"}, Ключ: \"26\", Смещение: 125\n",
      "Сообщение: {\"text\": \"MY_FIRST_MESSAGE\", \"number_value\": 14.223, \"key\": \"27\"}, Ключ: \"27\", Смещение: 126\n",
      "Сообщение: {\"text\": \"MY_FIRST_MESSAGE\", \"number_value\": 14.223, \"key\": \"28\"}, Ключ: \"28\", Смещение: 127\n",
      "Сообщение: {\"text\": \"MY_FIRST_MESSAGE\", \"number_value\": 14.223, \"key\": \"29\"}, Ключ: \"29\", Смещение: 128\n",
      "Сообщение: {\"text\": \"MY_FIRST_MESSAGE\", \"number_value\": 14.223, \"key\": \"30\"}, Ключ: \"30\", Смещение: 129\n",
      "Сообщение: {\"text\": \"MY_FIRST_MESSAGE\", \"number_value\": 14.223, \"key\": \"31\"}, Ключ: \"31\", Смещение: 130\n",
      "Сообщение: {\"text\": \"MY_FIRST_MESSAGE\", \"number_value\": 14.223, \"key\": \"32\"}, Ключ: \"32\", Смещение: 131\n",
      "Сообщение: {\"text\": \"MY_FIRST_MESSAGE\", \"number_value\": 14.223, \"key\": \"33\"}, Ключ: \"33\", Смещение: 132\n",
      "Сообщение: {\"text\": \"MY_FIRST_MESSAGE\", \"number_value\": 14.223, \"key\": \"34\"}, Ключ: \"34\", Смещение: 133\n",
      "Сообщение: {\"text\": \"MY_FIRST_MESSAGE\", \"number_value\": 14.223, \"key\": \"35\"}, Ключ: \"35\", Смещение: 134\n",
      "Сообщение: {\"text\": \"MY_FIRST_MESSAGE\", \"number_value\": 14.223, \"key\": \"36\"}, Ключ: \"36\", Смещение: 135\n",
      "Сообщение: {\"text\": \"MY_FIRST_MESSAGE\", \"number_value\": 14.223, \"key\": \"37\"}, Ключ: \"37\", Смещение: 136\n",
      "Сообщение: {\"text\": \"MY_FIRST_MESSAGE\", \"number_value\": 14.223, \"key\": \"38\"}, Ключ: \"38\", Смещение: 137\n",
      "Сообщение: {\"text\": \"MY_FIRST_MESSAGE\", \"number_value\": 14.223, \"key\": \"39\"}, Ключ: \"39\", Смещение: 138\n",
      "Сообщение: {\"text\": \"MY_FIRST_MESSAGE\", \"number_value\": 14.223, \"key\": \"40\"}, Ключ: \"40\", Смещение: 139\n",
      "Сообщение: {\"text\": \"MY_FIRST_MESSAGE\", \"number_value\": 14.223, \"key\": \"41\"}, Ключ: \"41\", Смещение: 140\n",
      "Сообщение: {\"text\": \"MY_FIRST_MESSAGE\", \"number_value\": 14.223, \"key\": \"42\"}, Ключ: \"42\", Смещение: 141\n",
      "Остановка консьюмера\n"
     ]
    }
   ],
   "source": [
    "manual_config = consumer_base_config | consumer_manual_offset_config\n",
    "ONE_PARTITION_TOPIC = 'one-partition'\n",
    "print(manual_config)\n",
    "kafka_manual_start_consumer_example(manual_config, ONE_PARTITION_TOPIC)"
   ]
  },
  {
   "cell_type": "code",
   "execution_count": 36,
   "metadata": {},
   "outputs": [
    {
     "name": "stdout",
     "output_type": "stream",
     "text": [
      "Подключен к Kafka. Читаю сообщения из топика 'one-partition'...\n",
      "Время: 2024-11-22 19:56:41.656289\n",
      "Получено 14 сообщений из раздела 0 топика one-partition\n",
      "Сообщение: {\"text\": \"MY_FIRST_MESSAGE\", \"number_value\": 14.223, \"key\": \"43\"}, Ключ: \"43\", Смещение: 142\n",
      "Сообщение: {\"text\": \"MY_FIRST_MESSAGE\", \"number_value\": 14.223, \"key\": \"44\"}, Ключ: \"44\", Смещение: 143\n",
      "Сообщение: {\"text\": \"MY_FIRST_MESSAGE\", \"number_value\": 14.223, \"key\": \"45\"}, Ключ: \"45\", Смещение: 144\n",
      "Сообщение: {\"text\": \"MY_FIRST_MESSAGE\", \"number_value\": 14.223, \"key\": \"46\"}, Ключ: \"46\", Смещение: 145\n",
      "Сообщение: {\"text\": \"MY_FIRST_MESSAGE\", \"number_value\": 14.223, \"key\": \"47\"}, Ключ: \"47\", Смещение: 146\n",
      "Сообщение: {\"text\": \"MY_FIRST_MESSAGE\", \"number_value\": 14.223, \"key\": \"48\"}, Ключ: \"48\", Смещение: 147\n",
      "Сообщение: {\"text\": \"MY_FIRST_MESSAGE\", \"number_value\": 14.223, \"key\": \"49\"}, Ключ: \"49\", Смещение: 148\n",
      "Сообщение: {\"text\": \"MY_FIRST_MESSAGE\", \"number_value\": 14.223, \"key\": \"50\"}, Ключ: \"50\", Смещение: 149\n",
      "Сообщение: {\"text\": \"MY_FIRST_MESSAGE\", \"number_value\": 14.223, \"key\": \"51\"}, Ключ: \"51\", Смещение: 150\n",
      "Сообщение: {\"text\": \"MY_FIRST_MESSAGE\", \"number_value\": 14.223, \"key\": \"52\"}, Ключ: \"52\", Смещение: 151\n",
      "Сообщение: {\"text\": \"MY_FIRST_MESSAGE\", \"number_value\": 14.223, \"key\": \"53\"}, Ключ: \"53\", Смещение: 152\n",
      "Сообщение: {\"text\": \"MY_FIRST_MESSAGE\", \"number_value\": 14.223, \"key\": \"54\"}, Ключ: \"54\", Смещение: 153\n",
      "Сообщение: {\"text\": \"MY_FIRST_MESSAGE\", \"number_value\": 14.223, \"key\": \"55\"}, Ключ: \"55\", Смещение: 154\n",
      "Сообщение: {\"text\": \"MY_FIRST_MESSAGE\", \"number_value\": 14.223, \"key\": \"56\"}, Ключ: \"56\", Смещение: 155\n",
      "Остановка консьюмера\n"
     ]
    }
   ],
   "source": [
    "kafka_manual_start_consumer_example(manual_config, ONE_PARTITION_TOPIC)"
   ]
  },
  {
   "cell_type": "code",
   "execution_count": null,
   "metadata": {},
   "outputs": [],
   "source": [
    "kafka_manual_end_consumer_example(consumer_base_config | consumer_manual_offset_config, TEST_TOPIC)"
   ]
  }
 ],
 "metadata": {
  "kernelspec": {
   "display_name": ".venv",
   "language": "python",
   "name": "python3"
  },
  "language_info": {
   "codemirror_mode": {
    "name": "ipython",
    "version": 3
   },
   "file_extension": ".py",
   "mimetype": "text/x-python",
   "name": "python",
   "nbconvert_exporter": "python",
   "pygments_lexer": "ipython3",
   "version": "3.9.6"
  }
 },
 "nbformat": 4,
 "nbformat_minor": 2
}
