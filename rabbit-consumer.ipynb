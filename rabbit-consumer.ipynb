{
 "cells": [
  {
   "cell_type": "code",
   "execution_count": null,
   "metadata": {},
   "outputs": [],
   "source": [
    "!pip3 install pika"
   ]
  },
  {
   "cell_type": "code",
   "execution_count": 1,
   "metadata": {},
   "outputs": [],
   "source": [
    "import pika"
   ]
  },
  {
   "cell_type": "markdown",
   "metadata": {},
   "source": [
    "Тут мы объявляем метод для обработки полученного сообщения и для получения сообщений.\n",
    "Не забудьте указать корректные логин, пароль и корректное название очереди"
   ]
  },
  {
   "cell_type": "code",
   "execution_count": 13,
   "metadata": {},
   "outputs": [],
   "source": [
    "import json\n",
    "\n",
    "def process_message(ch, method, properties, body):\n",
    "    try:\n",
    "        # Парсинг JSON-сообщения\n",
    "        message = json.loads(body)\n",
    "        print(f\"Получено сообщение: {message}\")\n",
    "\n",
    "        # Пример обработки сообщения\n",
    "        if 'service' in message:\n",
    "            print(f\"Обработка данных для сервиса: {message['service']}\")\n",
    "    except json.JSONDecodeError:\n",
    "        print(\"Ошибка: Невозможно распознать сообщение как JSON\")\n",
    "    finally:\n",
    "        # Подтверждаем получение сообщения\n",
    "        ch.basic_ack(delivery_tag=method.delivery_tag)\n",
    "\n",
    "\n",
    "\n",
    "def receive_message():\n",
    "    # Учетные данные для авторизации\n",
    "    credentials = pika.PlainCredentials('user', 'password')  # Используйте вашего пользователя и пароль\n",
    "    connection_params = pika.ConnectionParameters(\n",
    "        host='localhost',       # Хост кластера\n",
    "        port=5672,              # Порт AMQP\n",
    "        credentials=credentials # Учетные данные для подключения\n",
    "    )\n",
    "\n",
    "    # Устанавливаем соединение с RabbitMQ\n",
    "    connection = pika.BlockingConnection(connection_params)\n",
    "    channel = connection.channel()\n",
    "\n",
    "    # Указываем, что будем получать сообщения из очереди 'test_queue'\n",
    "    channel.basic_consume(\n",
    "        queue='test_queue',\n",
    "        on_message_callback=process_message\n",
    "    )\n",
    "\n",
    "    print(\"Ожидание сообщений. Нажмите Ctrl+C для завершения.\")\n",
    "    # Начинаем приём сообщений\n",
    "    channel.start_consuming()"
   ]
  },
  {
   "cell_type": "markdown",
   "metadata": {},
   "source": [
    "А здесь включаем сам консьюмер"
   ]
  },
  {
   "cell_type": "code",
   "execution_count": null,
   "metadata": {},
   "outputs": [
    {
     "name": "stdout",
     "output_type": "stream",
     "text": [
      "Ожидание сообщений. Нажмите Ctrl+C для завершения.\n",
      "Получено сообщение: {'id': 1382, 'message_value': 123, 'message_prop': 'dd', 'service': 'basic-service'}\n",
      "Обработка данных для сервиса: basic-service\n",
      "Получено сообщение: {'id': 2266, 'message_value': 123, 'message_prop': 'dd', 'service': 'basic-service'}\n",
      "Обработка данных для сервиса: basic-service\n",
      "Получено сообщение: {'type': 'order.physical', 'id': '71be5354-a009-474d-938a-0432119a82fa', 'name': 'Хохлов Виктор Денисович', 'items': [{'item_id': 6746261, 'quantity': 14}, {'item_id': 8764928, 'quantity': 13}], 'inn': '377274612071'}\n",
      "Получено сообщение: {'type': 'question', 'id': 'ca277bde-376c-4ddc-a031-da4315449514', 'name': 'Овчинникова Прасковья Рудольфовна', 'theme': 'payment', 'question': 'Спасть манера вскинуть солнце печатать иной заявление совещание близко место солнце призыв школьный.'}\n",
      "Получено сообщение: {'type': 'order.legal', 'id': '42cb6325-01eb-473a-98a7-8fd6d2e60311', 'name': 'Макар Фомич Герасимов', 'items': [{'item_id': 826969, 'quantity': 1797}, {'item_id': 10844323, 'quantity': 1957}, {'item_id': 7740400, 'quantity': 701}, {'item_id': 544240, 'quantity': 976}, {'item_id': 1330279, 'quantity': 1548}, {'item_id': 11457427, 'quantity': 1561}, {'item_id': 3927625, 'quantity': 361}, {'item_id': 6235492, 'quantity': 441}, {'item_id': 9841820, 'quantity': 845}, {'item_id': 1995508, 'quantity': 1748}, {'item_id': 4941017, 'quantity': 2051}, {'item_id': 9198945, 'quantity': 174}, {'item_id': 9843164, 'quantity': 2788}, {'item_id': 3483298, 'quantity': 2985}, {'item_id': 10250752, 'quantity': 2751}, {'item_id': 3462639, 'quantity': 1582}, {'item_id': 9430774, 'quantity': 1070}, {'item_id': 4337818, 'quantity': 1284}, {'item_id': 2465852, 'quantity': 1940}, {'item_id': 9868850, 'quantity': 2026}, {'item_id': 3683230, 'quantity': 2626}, {'item_id': 4789756, 'quantity': 1963}, {'item_id': 3520985, 'quantity': 1299}, {'item_id': 6288358, 'quantity': 2586}, {'item_id': 5840400, 'quantity': 1956}, {'item_id': 10460570, 'quantity': 404}, {'item_id': 10312980, 'quantity': 437}, {'item_id': 4558175, 'quantity': 807}, {'item_id': 6679007, 'quantity': 960}, {'item_id': 866631, 'quantity': 1865}, {'item_id': 8483387, 'quantity': 275}, {'item_id': 547786, 'quantity': 2236}, {'item_id': 7978834, 'quantity': 698}, {'item_id': 8180852, 'quantity': 801}, {'item_id': 7905371, 'quantity': 2422}, {'item_id': 3133009, 'quantity': 720}, {'item_id': 8349565, 'quantity': 387}, {'item_id': 10629627, 'quantity': 1978}, {'item_id': 4913004, 'quantity': 569}, {'item_id': 4659614, 'quantity': 1354}, {'item_id': 4991204, 'quantity': 163}, {'item_id': 7846619, 'quantity': 1440}, {'item_id': 597114, 'quantity': 2179}, {'item_id': 665290, 'quantity': 2988}], 'inn': '1069893436'}\n",
      "Получено сообщение: {'type': 'question', 'id': '5cb6cecc-c4cb-4101-bf70-fdd5cf1dc576', 'name': 'Гурьева Валерия Натановна', 'theme': 'order', 'question': 'Помимо второй заработать освободить постоянный печатать порт команда вперед доставать построить приличный.'}\n",
      "Получено сообщение: {'type': 'question', 'id': 'bc0e3411-dfec-4890-90ff-6ffd07fba776', 'name': 'Фрол Федосьевич Лыткин', 'theme': 'payment', 'question': 'Основание смертельный деловой эффект дьявол пасть задержать настать способ возбуждение невыносимый сбросить приятель уронить полностью девка проход возмутиться полностью.'}\n",
      "Получено сообщение: {'type': 'question', 'id': '5ac60019-a729-4de6-8b78-46e16d732796', 'name': 'Абрамов Филарет Игнатович', 'theme': 'delivery', 'question': 'Возбуждение разнообразный разнообразный точно природа собеседник домашний приходить материя успокоиться порог металл неожиданный порог демократия страсть.'}\n",
      "Получено сообщение: {'type': 'question', 'id': 'ec68a25c-daf1-465b-80b3-b14c25f573ed', 'name': 'Бобылева Юлия Вадимовна', 'theme': 'order', 'question': 'Вперед князь левый князь дальний пятеро правильный функция монета секунда приличный похороны госпожа медицина неправда хотеть.'}\n",
      "Получено сообщение: {'type': 'question', 'id': 'a896be87-5f3b-438c-9edc-f0b7f8914a93', 'name': 'Антонина Константиновна Устинова', 'theme': 'order', 'question': 'Что сынок пропасть медицина кольцо господь помимо необычный танцевать четыре скрытый.'}\n",
      "Получено сообщение: {'type': 'question', 'id': '23c80a3a-bf64-4919-a052-7a49bda3901e', 'name': 'Носова Прасковья Константиновна', 'theme': 'order', 'question': 'Командующий слишком плавно соответствие прощение командующий поговорить карандаш близко монета госпожа следовательно сопровождаться картинка советовать сынок академик ученый.'}\n",
      "Получено сообщение: {'type': 'question', 'id': 'd98efd37-518c-4277-975c-5f01013cf664', 'name': 'Глафира Вениаминовна Семенова', 'theme': 'payment', 'question': 'Оставить мучительно счастье промолчать факультет сопровождаться направо хотеть вздрагивать грустный кольцо песня наслаждение уточнить место потрясти ярко.'}\n",
      "Получено сообщение: {'type': 'order.physical', 'id': 'fddcb323-c64c-40b6-9f6c-210a404b5eb1', 'name': 'г-н Гришин Тарас Юльевич', 'items': [{'item_id': 12097318, 'quantity': 15}, {'item_id': 3305347, 'quantity': 17}, {'item_id': 9055095, 'quantity': 22}, {'item_id': 11910235, 'quantity': 1}, {'item_id': 8697699, 'quantity': 18}], 'inn': '815536678571'}\n",
      "Получено сообщение: {'type': 'order.legal', 'id': 'a496af8b-b733-4482-ab0f-9f9e18bb71c9', 'name': 'Крылова Фёкла Григорьевна', 'items': [{'item_id': 709115, 'quantity': 1132}, {'item_id': 8117838, 'quantity': 793}, {'item_id': 2284576, 'quantity': 1265}, {'item_id': 10770073, 'quantity': 2356}, {'item_id': 2614817, 'quantity': 985}, {'item_id': 550303, 'quantity': 742}, {'item_id': 4587323, 'quantity': 2339}, {'item_id': 1754845, 'quantity': 490}, {'item_id': 3421453, 'quantity': 2257}, {'item_id': 8937704, 'quantity': 1422}, {'item_id': 3400194, 'quantity': 753}, {'item_id': 4561946, 'quantity': 104}, {'item_id': 3871505, 'quantity': 1993}, {'item_id': 3903333, 'quantity': 2393}, {'item_id': 51244, 'quantity': 1940}, {'item_id': 7531596, 'quantity': 1868}, {'item_id': 11437232, 'quantity': 2881}, {'item_id': 12292248, 'quantity': 2345}, {'item_id': 10412056, 'quantity': 185}, {'item_id': 10100657, 'quantity': 644}, {'item_id': 310144, 'quantity': 1559}, {'item_id': 2766512, 'quantity': 2061}, {'item_id': 4595862, 'quantity': 2075}, {'item_id': 1241620, 'quantity': 2019}, {'item_id': 4487263, 'quantity': 169}, {'item_id': 11979425, 'quantity': 885}, {'item_id': 6607557, 'quantity': 1705}, {'item_id': 6241827, 'quantity': 1933}, {'item_id': 11641561, 'quantity': 1110}, {'item_id': 2597881, 'quantity': 1362}, {'item_id': 6971840, 'quantity': 2126}, {'item_id': 597607, 'quantity': 1492}, {'item_id': 7331453, 'quantity': 1452}, {'item_id': 3508306, 'quantity': 2350}, {'item_id': 106115, 'quantity': 115}, {'item_id': 1378652, 'quantity': 881}, {'item_id': 1238869, 'quantity': 2473}, {'item_id': 10727224, 'quantity': 1015}, {'item_id': 9557716, 'quantity': 1763}, {'item_id': 9362313, 'quantity': 2323}, {'item_id': 9076029, 'quantity': 642}, {'item_id': 11292051, 'quantity': 585}], 'inn': '9057347691'}\n",
      "Получено сообщение: {'type': 'order.physical', 'id': '07b48361-2d37-4f30-a500-f9844a298002', 'name': 'София Игоревна Дементьева', 'items': [{'item_id': 5570386, 'quantity': 5}, {'item_id': 7895484, 'quantity': 14}, {'item_id': 3044175, 'quantity': 18}, {'item_id': 8443496, 'quantity': 14}, {'item_id': 11881973, 'quantity': 14}], 'inn': '774681208423'}\n",
      "Получено сообщение: {'type': 'question', 'id': '9293abcc-99c1-42fd-b138-09c48105c99d', 'name': 'Аркадий Дмитриевич Наумов', 'theme': 'delivery', 'question': 'Отъезд построить ведь дремать карандаш подробность находить плавно монета.'}\n",
      "Получено сообщение: {'type': 'order.physical', 'id': 'd981ddcd-6771-4c25-9576-8abdaf38c8f2', 'name': 'Лора Валериевна Силина', 'items': [{'item_id': 4255151, 'quantity': 17}, {'item_id': 6866748, 'quantity': 1}, {'item_id': 11615063, 'quantity': 11}, {'item_id': 1281299, 'quantity': 8}, {'item_id': 1690758, 'quantity': 29}, {'item_id': 7081814, 'quantity': 11}, {'item_id': 9181468, 'quantity': 12}, {'item_id': 2579058, 'quantity': 9}, {'item_id': 1407085, 'quantity': 17}], 'inn': '637973586927'}\n",
      "Получено сообщение: {'type': 'order.legal', 'id': '5e6afe05-abf7-4ad5-9c5d-9ce126ecee34', 'name': 'Носов Артем Артёмович', 'items': [{'item_id': 9931016, 'quantity': 697}, {'item_id': 1584469, 'quantity': 2073}, {'item_id': 393884, 'quantity': 908}, {'item_id': 3729372, 'quantity': 349}, {'item_id': 4265816, 'quantity': 2808}, {'item_id': 11755486, 'quantity': 1127}, {'item_id': 5721671, 'quantity': 2092}, {'item_id': 2632009, 'quantity': 1812}, {'item_id': 2476029, 'quantity': 2599}, {'item_id': 3164159, 'quantity': 2033}, {'item_id': 10330175, 'quantity': 1048}, {'item_id': 1012694, 'quantity': 1620}, {'item_id': 12373585, 'quantity': 2794}, {'item_id': 3607890, 'quantity': 2472}, {'item_id': 10552167, 'quantity': 883}, {'item_id': 12307947, 'quantity': 609}, {'item_id': 3109491, 'quantity': 1735}, {'item_id': 2484743, 'quantity': 2641}, {'item_id': 1427693, 'quantity': 2100}, {'item_id': 2253546, 'quantity': 1337}, {'item_id': 5389709, 'quantity': 724}, {'item_id': 9066522, 'quantity': 1138}, {'item_id': 6093072, 'quantity': 2526}, {'item_id': 6105578, 'quantity': 1130}, {'item_id': 10003083, 'quantity': 2326}, {'item_id': 176353, 'quantity': 284}, {'item_id': 10079350, 'quantity': 2135}, {'item_id': 7382500, 'quantity': 1552}, {'item_id': 6436916, 'quantity': 1893}, {'item_id': 7342855, 'quantity': 627}, {'item_id': 2233804, 'quantity': 2468}, {'item_id': 1737870, 'quantity': 2656}, {'item_id': 103962, 'quantity': 2143}, {'item_id': 5858780, 'quantity': 355}, {'item_id': 5759898, 'quantity': 2983}, {'item_id': 4467765, 'quantity': 1529}, {'item_id': 11826808, 'quantity': 2073}, {'item_id': 6002990, 'quantity': 1002}, {'item_id': 4355541, 'quantity': 1000}, {'item_id': 2788632, 'quantity': 1690}, {'item_id': 6032277, 'quantity': 1058}, {'item_id': 4299768, 'quantity': 2031}, {'item_id': 8787276, 'quantity': 1423}, {'item_id': 3551135, 'quantity': 2897}, {'item_id': 7074051, 'quantity': 2746}], 'inn': '7340935212'}\n",
      "Получено сообщение: {'type': 'order.legal', 'id': '6253ea0b-9a70-460c-b34f-7ca7285fda3f', 'name': 'Орест Тимурович Титов', 'items': [{'item_id': 11478558, 'quantity': 2756}, {'item_id': 4165003, 'quantity': 1524}, {'item_id': 6048301, 'quantity': 1937}, {'item_id': 10830300, 'quantity': 2071}, {'item_id': 11736106, 'quantity': 1165}, {'item_id': 10185246, 'quantity': 1169}, {'item_id': 2711413, 'quantity': 2345}, {'item_id': 2980182, 'quantity': 2368}, {'item_id': 11528908, 'quantity': 1503}, {'item_id': 11284363, 'quantity': 1452}, {'item_id': 1395205, 'quantity': 1730}, {'item_id': 6277212, 'quantity': 2427}, {'item_id': 7022340, 'quantity': 2099}, {'item_id': 8123843, 'quantity': 1553}, {'item_id': 9079601, 'quantity': 2283}, {'item_id': 1520974, 'quantity': 1633}, {'item_id': 307954, 'quantity': 1359}, {'item_id': 8417182, 'quantity': 1679}, {'item_id': 5223009, 'quantity': 910}, {'item_id': 5714868, 'quantity': 169}, {'item_id': 1374640, 'quantity': 515}, {'item_id': 4452664, 'quantity': 2786}], 'inn': '5553241857'}\n",
      "Получено сообщение: {'type': 'order.physical', 'id': 'e8bf5cea-1220-431a-8444-7d16906749a9', 'name': 'Валентина Леоновна Федорова', 'items': [{'item_id': 11222883, 'quantity': 10}, {'item_id': 3992521, 'quantity': 22}, {'item_id': 5151542, 'quantity': 22}, {'item_id': 2140565, 'quantity': 24}, {'item_id': 3624301, 'quantity': 10}, {'item_id': 2454288, 'quantity': 14}, {'item_id': 3534187, 'quantity': 11}, {'item_id': 5319698, 'quantity': 22}, {'item_id': 4493723, 'quantity': 29}], 'inn': '406128152841'}\n",
      "Получено сообщение: {'type': 'question', 'id': 'ec7b0259-92f3-46f3-808d-a0eef7515989', 'name': 'Костина Майя Тимофеевна', 'theme': 'payment', 'question': 'Июнь нажать песня салон наткнуться отдел постоянный ярко о необычный лететь.'}\n",
      "Получено сообщение: {'type': 'order.legal', 'id': '68705de7-5543-49ab-85a5-9270f3113315', 'name': 'Маргарита Анатольевна Новикова', 'items': [{'item_id': 8923409, 'quantity': 487}, {'item_id': 6003482, 'quantity': 1352}, {'item_id': 652564, 'quantity': 1614}, {'item_id': 6172558, 'quantity': 793}, {'item_id': 1522800, 'quantity': 1682}, {'item_id': 8719285, 'quantity': 1320}, {'item_id': 5276522, 'quantity': 1332}, {'item_id': 11749379, 'quantity': 2605}, {'item_id': 1019410, 'quantity': 228}, {'item_id': 6483594, 'quantity': 123}, {'item_id': 10072338, 'quantity': 1406}, {'item_id': 11626975, 'quantity': 2880}, {'item_id': 9854318, 'quantity': 609}, {'item_id': 2623838, 'quantity': 2203}, {'item_id': 2566197, 'quantity': 1914}, {'item_id': 11587890, 'quantity': 2396}, {'item_id': 8477468, 'quantity': 2054}, {'item_id': 9686489, 'quantity': 1973}, {'item_id': 9834113, 'quantity': 2184}, {'item_id': 4111356, 'quantity': 2872}, {'item_id': 8458217, 'quantity': 2256}, {'item_id': 12065072, 'quantity': 1860}, {'item_id': 6124328, 'quantity': 1558}, {'item_id': 3793835, 'quantity': 2099}, {'item_id': 1106832, 'quantity': 716}, {'item_id': 3634857, 'quantity': 1150}, {'item_id': 4169033, 'quantity': 1434}, {'item_id': 5830941, 'quantity': 420}, {'item_id': 11152591, 'quantity': 2428}, {'item_id': 1538389, 'quantity': 2783}, {'item_id': 4942433, 'quantity': 1398}, {'item_id': 8937498, 'quantity': 1235}, {'item_id': 1590650, 'quantity': 976}, {'item_id': 4501654, 'quantity': 2581}, {'item_id': 11626030, 'quantity': 1712}, {'item_id': 3820499, 'quantity': 792}, {'item_id': 2346668, 'quantity': 1782}, {'item_id': 4666025, 'quantity': 431}, {'item_id': 2947920, 'quantity': 2463}, {'item_id': 2657543, 'quantity': 536}, {'item_id': 9818365, 'quantity': 582}, {'item_id': 1316659, 'quantity': 1291}, {'item_id': 7556891, 'quantity': 1184}, {'item_id': 2229032, 'quantity': 709}, {'item_id': 3909097, 'quantity': 2698}], 'inn': '7470489287'}\n",
      "Получено сообщение: {'type': 'order.legal', 'id': '61d4c2f6-8966-4a8a-b829-81f4b881334d', 'name': 'Гущин Викентий Игнатович', 'items': [{'item_id': 1250098, 'quantity': 1351}, {'item_id': 4571818, 'quantity': 213}, {'item_id': 7434894, 'quantity': 2735}, {'item_id': 5072314, 'quantity': 1629}, {'item_id': 1831345, 'quantity': 1199}, {'item_id': 4204162, 'quantity': 743}, {'item_id': 1814625, 'quantity': 488}, {'item_id': 8666907, 'quantity': 2763}, {'item_id': 8805193, 'quantity': 191}, {'item_id': 5947023, 'quantity': 2450}, {'item_id': 1861654, 'quantity': 2111}, {'item_id': 7053028, 'quantity': 1480}, {'item_id': 3175612, 'quantity': 1952}, {'item_id': 11243734, 'quantity': 1284}, {'item_id': 8043981, 'quantity': 1518}, {'item_id': 659888, 'quantity': 2990}, {'item_id': 2620427, 'quantity': 1593}, {'item_id': 2513427, 'quantity': 2374}, {'item_id': 5453277, 'quantity': 1108}, {'item_id': 11746742, 'quantity': 106}, {'item_id': 6836091, 'quantity': 1418}, {'item_id': 9897086, 'quantity': 974}, {'item_id': 2964283, 'quantity': 675}, {'item_id': 8330328, 'quantity': 408}, {'item_id': 11460312, 'quantity': 1151}, {'item_id': 5237833, 'quantity': 521}, {'item_id': 4904821, 'quantity': 1509}, {'item_id': 6615643, 'quantity': 1654}, {'item_id': 6199954, 'quantity': 2504}, {'item_id': 11335312, 'quantity': 519}, {'item_id': 7774092, 'quantity': 680}, {'item_id': 11162763, 'quantity': 2473}, {'item_id': 644503, 'quantity': 2108}, {'item_id': 3964583, 'quantity': 824}, {'item_id': 7992304, 'quantity': 748}, {'item_id': 5001049, 'quantity': 1657}], 'inn': '8848885965'}\n",
      "Получено сообщение: {'type': 'question', 'id': 'ef522476-0ac2-47ad-8ad7-44ca5bd7a51c', 'name': 'Воронов Иларион Витальевич', 'theme': 'delivery', 'question': 'Научить обида цвет порт легко неожиданный товар затянуться сустав социалистический князь желание актриса недостаток пламя следовательно коммунизм.'}\n",
      "Получено сообщение: {'type': 'order.physical', 'id': 'afef6d06-c09a-4d77-98a6-fda39af3dfef', 'name': 'Морозова Виктория Робертовна', 'items': [{'item_id': 2983948, 'quantity': 17}, {'item_id': 7589834, 'quantity': 23}, {'item_id': 8156050, 'quantity': 5}, {'item_id': 1223571, 'quantity': 5}, {'item_id': 6454436, 'quantity': 14}, {'item_id': 7963152, 'quantity': 22}, {'item_id': 7960465, 'quantity': 13}, {'item_id': 9005481, 'quantity': 21}, {'item_id': 5472239, 'quantity': 4}], 'inn': '273313176784'}\n",
      "Получено сообщение: {'type': 'question', 'id': '6b3a0ccf-5ee0-46d6-bb6d-cb7f8752d8fe', 'name': 'Анжелика Кузьминична Сафонова', 'theme': 'order', 'question': 'Возникновение кпсс поговорить космос ручей торопливый поздравлять пропасть анализ мальчишка палата.'}\n",
      "Получено сообщение: {'type': 'order.physical', 'id': '7f1dff51-20af-4322-b212-b7f485da4261', 'name': 'Владислав Всеволодович Романов', 'items': [{'item_id': 7955388, 'quantity': 25}, {'item_id': 271596, 'quantity': 28}, {'item_id': 13208, 'quantity': 15}, {'item_id': 6560776, 'quantity': 27}, {'item_id': 3620774, 'quantity': 6}, {'item_id': 9889354, 'quantity': 7}, {'item_id': 9085259, 'quantity': 11}], 'inn': '539311546031'}\n",
      "Получено сообщение: {'type': 'order.physical', 'id': 'f299c71d-33ec-43c2-87d1-1d8cfe3f6702', 'name': 'Князева Анастасия Мироновна', 'items': [{'item_id': 4504632, 'quantity': 27}, {'item_id': 993077, 'quantity': 3}, {'item_id': 12005537, 'quantity': 16}, {'item_id': 3136579, 'quantity': 30}], 'inn': '322298099010'}\n",
      "Получено сообщение: {'type': 'order.physical', 'id': '81acb59c-955b-4615-8025-6a6e7cd8607f', 'name': 'Никанор Харламович Кошелев', 'items': [{'item_id': 7568041, 'quantity': 6}, {'item_id': 6351197, 'quantity': 18}, {'item_id': 528270, 'quantity': 25}, {'item_id': 4862845, 'quantity': 14}, {'item_id': 554450, 'quantity': 27}, {'item_id': 8012018, 'quantity': 11}], 'inn': '314802766634'}\n",
      "Получено сообщение: {'type': 'question', 'id': '53ebd5fc-d3a5-494f-808e-fd8803fc8ae7', 'name': 'Галкина Прасковья Вячеславовна', 'theme': 'payment', 'question': 'Неудобно жить танцевать рабочий механический функция неправда чувство четко сутки призыв дошлый наткнуться мимо бетонный сбросить.'}\n",
      "Получено сообщение: {'type': 'order.legal', 'id': 'e9666ee4-b120-46f9-b806-b9390da68780', 'name': 'Прасковья Евгеньевна Дроздова', 'items': [{'item_id': 11461868, 'quantity': 1718}, {'item_id': 11122689, 'quantity': 1308}, {'item_id': 7024031, 'quantity': 1371}, {'item_id': 1580062, 'quantity': 2691}, {'item_id': 1598224, 'quantity': 2448}, {'item_id': 10694630, 'quantity': 2948}, {'item_id': 9493341, 'quantity': 178}, {'item_id': 8727695, 'quantity': 1865}, {'item_id': 8335023, 'quantity': 1492}, {'item_id': 6267011, 'quantity': 1694}, {'item_id': 8772791, 'quantity': 1064}, {'item_id': 386197, 'quantity': 752}, {'item_id': 11797917, 'quantity': 2161}, {'item_id': 8525480, 'quantity': 2256}, {'item_id': 9783426, 'quantity': 976}, {'item_id': 730562, 'quantity': 1604}, {'item_id': 9847444, 'quantity': 2691}, {'item_id': 5939606, 'quantity': 661}, {'item_id': 6610922, 'quantity': 1331}, {'item_id': 59670, 'quantity': 2279}, {'item_id': 969619, 'quantity': 1767}, {'item_id': 511877, 'quantity': 1558}, {'item_id': 2320947, 'quantity': 492}], 'inn': '4757090940'}\n",
      "Получено сообщение: {'type': 'order.physical', 'id': 'e35ccef8-f62e-4030-afa1-1598c6ca25ac', 'name': 'Гущина Алина Феликсовна', 'items': [{'item_id': 4534690, 'quantity': 10}], 'inn': '759198781870'}\n"
     ]
    }
   ],
   "source": [
    "receive_message()"
   ]
  },
  {
   "cell_type": "code",
   "execution_count": null,
   "metadata": {},
   "outputs": [],
   "source": []
  }
 ],
 "metadata": {
  "kernelspec": {
   "display_name": ".venv",
   "language": "python",
   "name": "python3"
  },
  "language_info": {
   "codemirror_mode": {
    "name": "ipython",
    "version": 3
   },
   "file_extension": ".py",
   "mimetype": "text/x-python",
   "name": "python",
   "nbconvert_exporter": "python",
   "pygments_lexer": "ipython3",
   "version": "3.9.6"
  }
 },
 "nbformat": 4,
 "nbformat_minor": 2
}
